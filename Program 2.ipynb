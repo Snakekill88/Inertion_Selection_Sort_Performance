{
 "cells": [
  {
   "cell_type": "markdown",
   "id": "236b03ec",
   "metadata": {},
   "source": [
    "## Program #2: Benchmarking Insertion and Selection Sorts\n",
    "Catherine Mett, Noah Nieberle, Dominic Palermo\n",
    "\n",
    "\n",
    "#### Introduction\n",
    "In this assignment, we implemented the insertion and selection sorts discussed in class. We then ran some tests and benchmarked these algorithms to show correctness and the difference between their runtimes when given best, worst and average case scenarios. Graphs of these runtimes are shown in the analysis of the results. \n",
    "\n",
    "#### Algorithm Implementations\n",
    "##### Insertion sort"
   ]
  },
  {
   "cell_type": "code",
   "execution_count": 15,
   "id": "dd8cef47",
   "metadata": {
    "ExecuteTime": {
     "end_time": "2024-02-28T20:33:51.176659800Z",
     "start_time": "2024-02-28T20:33:51.078538700Z"
    }
   },
   "outputs": [
    {
     "name": "stdout",
     "output_type": "stream",
     "text": [
      "[12, 11, 13, 5, 6, 324, 36, -3, 423]\n"
     ]
    }
   ],
   "source": [
    "def insertion_sort(arr):\n",
    "    if(len(arr)):\n",
    "        return\n",
    "    for i in range(1,len(arr)):\n",
    "        key = arr[i]\n",
    "        j = i-1\n",
    "        while j >= 0 and key < arr[j]:  \n",
    "            arr[j+1] = arr[j]  \n",
    "            j -= 1\n",
    "        arr[j+1] = key \n",
    "        \n",
    "arr = [12, 11, 13, 5, 6,324,36,-3,423]\n",
    "insertion_sort(arr)\n",
    "print(arr)\n"
   ]
  },
  {
   "cell_type": "markdown",
   "source": [
    "##### Selection Sort"
   ],
   "metadata": {
    "collapsed": false
   },
   "id": "4db648d818d71ec2"
  },
  {
   "cell_type": "code",
   "execution_count": 16,
   "outputs": [],
   "source": [
    "def selection_sort(arr):\n",
    "    for j in range(0, len(arr)-1):\n",
    "        smallest = j\n",
    "        for i in range(j+1, len(arr)):\n",
    "            if arr[i] < arr[smallest]:\n",
    "                smallest = i\n",
    "        temp = arr[j]\n",
    "        arr[j] = arr[smallest]\n",
    "        arr[smallest] = temp"
   ],
   "metadata": {
    "collapsed": false,
    "ExecuteTime": {
     "end_time": "2024-02-28T20:33:51.178669700Z",
     "start_time": "2024-02-28T20:33:51.098657200Z"
    }
   },
   "id": "ebcce13d67ce9bb8"
  },
  {
   "cell_type": "markdown",
   "source": [
    "#### Algorithm Tests"
   ],
   "metadata": {
    "collapsed": false
   },
   "id": "60e25471852de8eb"
  },
  {
   "cell_type": "code",
   "execution_count": 17,
   "outputs": [
    {
     "name": "stdout",
     "output_type": "stream",
     "text": [
      "Insertion Sort:\n",
      "[12, 11, 13, 5, 6, 324, 36, -3, 423]\n",
      "[-300, 0, -232, 8, -459, -5, 21, 60, 59, -301]\n",
      "[10, 9, 8, 7, 6, 5, 4, 3, 2, 1]\n",
      "\n",
      "Selection Sort:\n",
      "[-3, 5, 6, 11, 12, 13, 36, 324, 423]\n",
      "[-459, -301, -300, -232, -5, 0, 8, 21, 59, 60]\n",
      "[1, 2, 3, 4, 5, 6, 7, 8, 9, 10]\n"
     ]
    }
   ],
   "source": [
    "test1 = [12, 11, 13, 5, 6,324,36,-3,423]\n",
    "test2 = [-300, 0, -232, 8, -459, -5, 21, 60, 59, -301]\n",
    "test3 = [10, 9, 8, 7, 6, 5, 4, 3, 2, 1]\n",
    "insertion_sort(test1)\n",
    "insertion_sort(test2)\n",
    "insertion_sort(test3)\n",
    "print(\"Insertion Sort:\")\n",
    "print(test1)\n",
    "print(test2)\n",
    "print(test3)\n",
    "\n",
    "test1 = [12, 11, 13, 5, 6,324,36,-3,423]\n",
    "test2 = [-300, 0, -232, 8, -459, -5, 21, 60, 59, -301]\n",
    "test3 = [10, 9, 8, 7, 6, 5, 4, 3, 2, 1]\n",
    "selection_sort(test1)\n",
    "selection_sort(test2)\n",
    "selection_sort(test3)\n",
    "print(\"\\nSelection Sort:\")\n",
    "print(test1)\n",
    "print(test2)\n",
    "print(test3)"
   ],
   "metadata": {
    "collapsed": false,
    "ExecuteTime": {
     "end_time": "2024-02-28T20:33:51.181663600Z",
     "start_time": "2024-02-28T20:33:51.115657200Z"
    }
   },
   "id": "2d85a8c965de202d"
  },
  {
   "cell_type": "markdown",
   "source": [
    "#### Benchmarking"
   ],
   "metadata": {
    "collapsed": false
   },
   "id": "85f80933bac93f86"
  },
  {
   "cell_type": "code",
   "execution_count": 18,
   "outputs": [
    {
     "ename": "NameError",
     "evalue": "name 'time' is not defined",
     "output_type": "error",
     "traceback": [
      "\u001B[1;31m---------------------------------------------------------------------------\u001B[0m",
      "\u001B[1;31mNameError\u001B[0m                                 Traceback (most recent call last)",
      "Cell \u001B[1;32mIn[18], line 59\u001B[0m\n\u001B[0;32m     57\u001B[0m data \u001B[38;5;241m=\u001B[39m generate_input_list(list_size)\n\u001B[0;32m     58\u001B[0m \u001B[38;5;66;03m#Selection sort\u001B[39;00m\n\u001B[1;32m---> 59\u001B[0m benchmark_times \u001B[38;5;241m=\u001B[39m \u001B[43mbenchmark\u001B[49m\u001B[43m(\u001B[49m\u001B[43mselection_sort\u001B[49m\u001B[43m,\u001B[49m\u001B[43m \u001B[49m\u001B[43mdata\u001B[49m\u001B[43m)\u001B[49m\n\u001B[0;32m     61\u001B[0m shuffled_time \u001B[38;5;241m=\u001B[39m benchmark_times[\u001B[38;5;241m0\u001B[39m]\n\u001B[0;32m     62\u001B[0m sorted_time \u001B[38;5;241m=\u001B[39m benchmark_times[\u001B[38;5;241m1\u001B[39m]\n",
      "Cell \u001B[1;32mIn[18], line 13\u001B[0m, in \u001B[0;36mbenchmark\u001B[1;34m(sorting_algorithm, input_list)\u001B[0m\n\u001B[0;32m     11\u001B[0m shuffle_input_list \u001B[38;5;241m=\u001B[39m input_list\u001B[38;5;241m.\u001B[39mcopy()\n\u001B[0;32m     12\u001B[0m \u001B[38;5;66;03m#Shuffled list\u001B[39;00m\n\u001B[1;32m---> 13\u001B[0m start_time \u001B[38;5;241m=\u001B[39m \u001B[43mtime\u001B[49m\u001B[38;5;241m.\u001B[39mperf_counter()\n\u001B[0;32m     14\u001B[0m sorting_algorithm(shuffle_input_list)\n\u001B[0;32m     15\u001B[0m shuffled_benchmark_time \u001B[38;5;241m=\u001B[39m time\u001B[38;5;241m.\u001B[39mperf_counter() \u001B[38;5;241m-\u001B[39m start_time\n",
      "\u001B[1;31mNameError\u001B[0m: name 'time' is not defined"
     ]
    }
   ],
   "source": [
    "import random\n",
    "import matplotlib.pyplot as plt\n",
    "import statistics\n",
    "\n",
    "\n",
    "def benchmark(sorting_algorithm, input_list):\n",
    "    \"\"\"\n",
    "    Performs 3 tests on the sorting algorithm given an input list, where the input is shuffled, sorted, and reversed\n",
    "    Return: Average of 5 benchmark times for each algorithm on an input list\n",
    "    \"\"\"\n",
    "    shuffle_input_list = input_list.copy()\n",
    "    #Shuffled list\n",
    "    start_time = time.perf_counter()\n",
    "    sorting_algorithm(shuffle_input_list)\n",
    "    shuffled_benchmark_time = time.perf_counter() - start_time\n",
    "\n",
    "    sort_input_list = input_list.copy()\n",
    "    #Sorted List\n",
    "    input_list.sort()\n",
    "    start_time = time.perf_counter()\n",
    "    sorting_algorithm(sort_input_list)\n",
    "    sorted_benchmark_time = time.perf_counter() - start_time\n",
    "\n",
    "    reverse_input_list = input_list.copy()\n",
    "    #Reversed List\n",
    "    input_list.reverse()\n",
    "    start_time = time.perf_counter()\n",
    "    sorting_algorithm(reverse_input_list)\n",
    "    reversed_benchmark_time = time.perf_counter() - start_time\n",
    "    return (shuffled_benchmark_time, sorted_benchmark_time, reversed_benchmark_time)\n",
    "\n",
    "def generate_input_list(n):\n",
    "    return [random.randint(0,100) for _ in range(n)]\n",
    "\n",
    "\n",
    "list_sizes = [100, 1000, 10000, 15000]\n",
    "# list_sizes = [100,1000,100000]\n",
    "\n",
    "#Lists to hold the benchmark times for each algorithm\n",
    "sorted_times_insertion = []\n",
    "shuffled_times_insertion = []\n",
    "reversed_times_insertion = []\n",
    "sorted_times_selection = []\n",
    "shuffled_times_selection = []\n",
    "reversed_times_selection = []\n",
    "trial_count = 5\n",
    "for list_size in list_sizes:\n",
    "    #Lists will hold the benchmark times for sorting of size n\n",
    "    selection_shuffled_times = []\n",
    "    selection_sorted_times = []\n",
    "    selection_reversed_times = []\n",
    "    insertion_shuffled_times = []\n",
    "    insertion_sorted_times = []\n",
    "    insertion_reversed_times = []\n",
    "    for trial in range(trial_count):\n",
    "        #Data is randomly generated\n",
    "        data = generate_input_list(list_size)\n",
    "        #Selection sort\n",
    "        benchmark_times = benchmark(selection_sort, data)\n",
    "\n",
    "        shuffled_time = benchmark_times[0]\n",
    "        sorted_time = benchmark_times[1]\n",
    "        reversed_time = benchmark_times[2]\n",
    "\n",
    "        selection_shuffled_times.append(shuffled_time)\n",
    "        selection_sorted_times.append(sorted_time)\n",
    "        selection_reversed_times.append(reversed_time)\n",
    "\n",
    "        #Insertion Sort\n",
    "        benchmark_times_insertion_sort = benchmark(insertion_sort, data)\n",
    "\n",
    "        shuffled_time = benchmark_times[0]\n",
    "        sorted_time = benchmark_times[1]\n",
    "        reversed_time = benchmark_times[2]\n",
    "\n",
    "        #Times for insertion sort with list size N\n",
    "        insertion_shuffled_times.append(shuffled_time)\n",
    "        insertion_sorted_times.append(sorted_time)\n",
    "        insertion_reversed_times.append(reversed_time)\n",
    "        print(trial)\n",
    "\n",
    "    #The average time of selection sort algorithm for sorted, shuffled, and reversed input lists of size n\n",
    "    selection_sorted_average_time = statistics.fmean(selection_sorted_times)\n",
    "    selection_shuffled_average_time = statistics.fmean(selection_shuffled_times)\n",
    "    selection_reversed_average_time = statistics.fmean(selection_reversed_times)\n",
    "\n",
    "    #The average time of insertion sort algorithm for sorted, shuffled, and reversed input lists of size n\n",
    "    insertion_sorted_average_time = statistics.fmean(selection_sorted_times)\n",
    "    insertion_shuffled_average_time = statistics.fmean(selection_sorted_times)\n",
    "    insertion_reversed_average_time = statistics.fmean(selection_reversed_times)\n",
    "\n",
    "    sorted_times_selection.append(selection_sorted_average_time)\n",
    "    shuffled_times_selection.append(selection_shuffled_average_time)\n",
    "    reversed_times_selection.append(selection_reversed_average_time)\n",
    "\n",
    "    sorted_times_insertion.append(insertion_sorted_average_time)\n",
    "    shuffled_times_insertion.append(insertion_shuffled_average_time)\n",
    "    reversed_times_insertion.append(insertion_reversed_average_time)\n",
    "    print(list_size)\n",
    "    \n",
    "plt.plot(list_sizes, shuffled_times_insertion, label=\"Average\")\n",
    "plt.plot(list_sizes, reversed_times_insertion, label=\"Worst\")\n",
    "plt.plot(list_sizes, sorted_times_insertion, label=\"Best\")\n",
    "\n",
    "plt.xlabel(\"List Size\", fontsize=18)\n",
    "plt.ylabel(\"Run time(s)\", fontsize=18)\n",
    "plt.title(\"Insertion Sort\", fontsize=20)\n",
    "plt.legend()\n",
    "plt.plot(list_sizes, shuffled_times_insertion, label=\"Average\")\n",
    "plt.plot(list_sizes, reversed_times_insertion, label=\"Worst\")\n",
    "plt.plot(list_sizes, sorted_times_insertion, label=\"Best\")\n",
    "\n",
    "plt.xlabel(\"List Size\", fontsize=18)\n",
    "plt.ylabel(\"Run time(s)\", fontsize=18)\n",
    "plt.title(\"Insertion Sort\", fontsize=20)\n",
    "plt.legend()\n",
    "plt.plot(list_sizes, shuffled_times_insertion, label=\"Insertion\")\n",
    "plt.plot(list_sizes, shuffled_times_selection, label=\"Selection\")\n",
    "\n",
    "plt.xlabel(\"List Size\", fontsize=18)\n",
    "plt.ylabel(\"Run time(s)\", fontsize=18)\n",
    "plt.title(\"Average Times\", fontsize=20)\n",
    "plt.legend()\n",
    "plt.plot(list_sizes, reversed_times_insertion, label=\"Insertion\")\n",
    "plt.plot(list_sizes, reversed_times_selection, label=\"Selection\")\n",
    "\n",
    "plt.xlabel(\"List Size\", fontsize=18)\n",
    "plt.ylabel(\"Run time(s)\", fontsize=18)\n",
    "plt.title(\"Worst Times\", fontsize=20)\n",
    "plt.legend()\n",
    "plt.plot(list_sizes, sorted_times_insertion, label=\"Insertion\")\n",
    "plt.plot(list_sizes, sorted_times_selection, label=\"Selection\")\n",
    "\n",
    "plt.xlabel(\"List Size\", fontsize=18)\n",
    "plt.ylabel(\"Run time(s)\", fontsize=18)\n",
    "plt.title(\"Sorted Times\", fontsize=20)\n",
    "plt.legend()\n"
   ],
   "metadata": {
    "collapsed": false,
    "ExecuteTime": {
     "end_time": "2024-02-28T20:33:53.035137400Z",
     "start_time": "2024-02-28T20:33:51.127661400Z"
    }
   },
   "id": "353db50d5a64f8a4"
  }
 ],
 "metadata": {
  "kernelspec": {
   "display_name": "Python 3 (ipykernel)",
   "language": "python",
   "name": "python3"
  },
  "language_info": {
   "codemirror_mode": {
    "name": "ipython",
    "version": 3
   },
   "file_extension": ".py",
   "mimetype": "text/x-python",
   "name": "python",
   "nbconvert_exporter": "python",
   "pygments_lexer": "ipython3",
   "version": "3.11.5"
  }
 },
 "nbformat": 4,
 "nbformat_minor": 5
}
