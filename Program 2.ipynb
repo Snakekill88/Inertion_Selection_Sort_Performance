{
 "cells": [
  {
   "cell_type": "markdown",
   "id": "236b03ec",
   "metadata": {},
   "source": [
    "## Program #2: Benchmarking Insertion and Selection Sorts\n",
    "Catherine Mett, Noah Nieberle, Dominic Palermo\n",
    "\n",
    "\n",
    "#### Introduction\n",
    "In this assignment, we implemented the insertion and selection sorts discussed in class. We then ran some tests and benchmarked these algorithms to show correctness and the difference between their runtimes when given best, worst and average case scenarios. Graphs of these runtimes are shown in the analysis of the results. \n",
    "\n",
    "#### Algorithm Implementations\n",
    "##### Insertion sort"
   ]
  },
  {
   "cell_type": "code",
   "execution_count": 12,
   "id": "dd8cef47",
   "metadata": {
    "ExecuteTime": {
     "end_time": "2024-02-28T20:21:50.882936800Z",
     "start_time": "2024-02-28T20:21:50.863920700Z"
    }
   },
   "outputs": [
    {
     "name": "stdout",
     "output_type": "stream",
     "text": [
      "[12, 11, 13, 5, 6, 324, 36, -3, 423]\n"
     ]
    }
   ],
   "source": [
    "def insertionSort(arr):\n",
    "    if(len(arr)):\n",
    "        return\n",
    "    for i in range(1,len(arr)):\n",
    "        key = arr[i]\n",
    "        j = i-1\n",
    "        while j >= 0 and key < arr[j]:  \n",
    "            arr[j+1] = arr[j]  \n",
    "            j -= 1\n",
    "        arr[j+1] = key \n",
    "        \n",
    "arr = [12, 11, 13, 5, 6,324,36,-3,423]\n",
    "insertionSort(arr)\n",
    "print(arr)\n"
   ]
  },
  {
   "cell_type": "markdown",
   "source": [
    "##### Selection Sort"
   ],
   "metadata": {
    "collapsed": false
   },
   "id": "4db648d818d71ec2"
  },
  {
   "cell_type": "code",
   "execution_count": 13,
   "outputs": [],
   "source": [
    "def selectionSort(arr):\n",
    "    for j in range(0, len(arr)-1):\n",
    "        smallest = j\n",
    "        for i in range(j+1, len(arr)):\n",
    "            if arr[i] < arr[smallest]:\n",
    "                smallest = i\n",
    "        temp = arr[j]\n",
    "        arr[j] = arr[smallest]\n",
    "        arr[smallest] = temp"
   ],
   "metadata": {
    "collapsed": false,
    "ExecuteTime": {
     "end_time": "2024-02-28T20:21:50.944916600Z",
     "start_time": "2024-02-28T20:21:50.874922400Z"
    }
   },
   "id": "ebcce13d67ce9bb8"
  },
  {
   "cell_type": "markdown",
   "source": [
    "#### Algorithm Tests"
   ],
   "metadata": {
    "collapsed": false
   },
   "id": "60e25471852de8eb"
  },
  {
   "cell_type": "code",
   "execution_count": 14,
   "outputs": [
    {
     "name": "stdout",
     "output_type": "stream",
     "text": [
      "Insertion Sort:\n",
      "[12, 11, 13, 5, 6, 324, 36, -3, 423]\n",
      "[-300, 0, -232, 8, -459, -5, 21, 60, 59, -301]\n",
      "[10, 9, 8, 7, 6, 5, 4, 3, 2, 1]\n",
      "\n",
      "Selection Sort:\n",
      "[-3, 5, 6, 11, 12, 13, 36, 324, 423]\n",
      "[-459, -301, -300, -232, -5, 0, 8, 21, 59, 60]\n",
      "[1, 2, 3, 4, 5, 6, 7, 8, 9, 10]\n"
     ]
    }
   ],
   "source": [
    "test1 = [12, 11, 13, 5, 6,324,36,-3,423]\n",
    "test2 = [-300, 0, -232, 8, -459, -5, 21, 60, 59, -301]\n",
    "test3 = [10, 9, 8, 7, 6, 5, 4, 3, 2, 1]\n",
    "insertionSort(test1)\n",
    "insertionSort(test2)\n",
    "insertionSort(test3)\n",
    "print(\"Insertion Sort:\")\n",
    "print(test1)\n",
    "print(test2)\n",
    "print(test3)\n",
    "\n",
    "test1 = [12, 11, 13, 5, 6,324,36,-3,423]\n",
    "test2 = [-300, 0, -232, 8, -459, -5, 21, 60, 59, -301]\n",
    "test3 = [10, 9, 8, 7, 6, 5, 4, 3, 2, 1]\n",
    "selectionSort(test1)\n",
    "selectionSort(test2)\n",
    "selectionSort(test3)\n",
    "print(\"\\nSelection Sort:\")\n",
    "print(test1)\n",
    "print(test2)\n",
    "print(test3)"
   ],
   "metadata": {
    "collapsed": false,
    "ExecuteTime": {
     "end_time": "2024-02-28T20:21:50.949917800Z",
     "start_time": "2024-02-28T20:21:50.889923900Z"
    }
   },
   "id": "2d85a8c965de202d"
  },
  {
   "cell_type": "markdown",
   "source": [
    "#### Benchmarking\n"
   ],
   "metadata": {
    "collapsed": false
   },
   "id": "85f80933bac93f86"
  }
 ],
 "metadata": {
  "kernelspec": {
   "display_name": "Python 3 (ipykernel)",
   "language": "python",
   "name": "python3"
  },
  "language_info": {
   "codemirror_mode": {
    "name": "ipython",
    "version": 3
   },
   "file_extension": ".py",
   "mimetype": "text/x-python",
   "name": "python",
   "nbconvert_exporter": "python",
   "pygments_lexer": "ipython3",
   "version": "3.11.5"
  }
 },
 "nbformat": 4,
 "nbformat_minor": 5
}
