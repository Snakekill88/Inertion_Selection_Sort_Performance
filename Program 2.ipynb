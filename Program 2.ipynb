{
 "cells": [
  {
   "cell_type": "markdown",
   "id": "236b03ec",
   "metadata": {},
   "source": [
    "## Program #2: Benchmarking Insertion and Selection Sorts\n",
    "Catherine Mett, Noah Nieberle, Dominic Palermo\n",
    "\n",
    "\n",
    "#### Introduction\n",
    "In this assignment, we implemented the insertion and selection sorts discussed in class. We then ran some tests and benchmarked these algorithms to show correctness and the difference between their runtimes when given best, worst and average case scenarios. Graphs of these runtimes are shown in the analysis of the results. \n",
    "\n",
    "#### Algorithm Implementations\n",
    "##### Insertion sort"
   ]
  },
  {
   "cell_type": "code",
   "execution_count": 301,
   "id": "dd8cef47",
   "metadata": {
    "ExecuteTime": {
     "end_time": "2024-02-29T23:51:22.705882100Z",
     "start_time": "2024-02-29T23:51:22.646805900Z"
    }
   },
   "outputs": [],
   "source": [
    "def insertion_sort(arr):\n",
    "    for i in range(1,len(arr)):\n",
    "        key = arr[i]\n",
    "        j = i-1\n",
    "        while j >= 0 and key < arr[j]:  \n",
    "            arr[j+1] = arr[j]  \n",
    "            j -= 1\n",
    "        arr[j+1] = key "
   ]
  },
  {
   "cell_type": "markdown",
   "source": [
    "##### Selection Sort"
   ],
   "metadata": {
    "collapsed": false
   },
   "id": "4db648d818d71ec2"
  },
  {
   "cell_type": "code",
   "execution_count": 302,
   "outputs": [],
   "source": [
    "def selection_sort(arr):\n",
    "    for j in range(0, len(arr)-1):\n",
    "        smallest = j\n",
    "        for i in range(j+1, len(arr)):\n",
    "            if arr[i] < arr[smallest]:\n",
    "                smallest = i\n",
    "        temp = arr[j]\n",
    "        arr[j] = arr[smallest]\n",
    "        arr[smallest] = temp"
   ],
   "metadata": {
    "collapsed": false,
    "ExecuteTime": {
     "end_time": "2024-02-29T23:51:22.805883200Z",
     "start_time": "2024-02-29T23:51:22.666883400Z"
    }
   },
   "id": "ebcce13d67ce9bb8"
  },
  {
   "cell_type": "markdown",
   "source": [
    "#### Algorithm Tests"
   ],
   "metadata": {
    "collapsed": false
   },
   "id": "60e25471852de8eb"
  },
  {
   "cell_type": "code",
   "execution_count": 303,
   "outputs": [
    {
     "name": "stdout",
     "output_type": "stream",
     "text": [
      "Insertion Sort:\n",
      "[-3, 5, 6, 11, 12, 13, 36, 324, 423]\n",
      "[-459, -301, -300, -232, -5, 0, 8, 21, 59, 60]\n",
      "[1, 2, 3, 4, 5, 6, 7, 8, 9, 10]\n",
      "\n",
      "Selection Sort:\n",
      "[-3, 5, 6, 11, 12, 13, 36, 324, 423]\n",
      "[-459, -301, -300, -232, -5, 0, 8, 21, 59, 60]\n",
      "[1, 2, 3, 4, 5, 6, 7, 8, 9, 10]\n"
     ]
    }
   ],
   "source": [
    "test1 = [12, 11, 13, 5, 6,324,36,-3,423]\n",
    "test2 = [-300, 0, -232, 8, -459, -5, 21, 60, 59, -301]\n",
    "test3 = [10, 9, 8, 7, 6, 5, 4, 3, 2, 1]\n",
    "insertion_sort(test1)\n",
    "insertion_sort(test2)\n",
    "insertion_sort(test3)\n",
    "print(\"Insertion Sort:\")\n",
    "print(test1)\n",
    "print(test2)\n",
    "print(test3)\n",
    "\n",
    "test1 = [12, 11, 13, 5, 6,324,36,-3,423]\n",
    "test2 = [-300, 0, -232, 8, -459, -5, 21, 60, 59, -301]\n",
    "test3 = [10, 9, 8, 7, 6, 5, 4, 3, 2, 1]\n",
    "selection_sort(test1)\n",
    "selection_sort(test2)\n",
    "selection_sort(test3)\n",
    "print(\"\\nSelection Sort:\")\n",
    "print(test1)\n",
    "print(test2)\n",
    "print(test3)"
   ],
   "metadata": {
    "collapsed": false,
    "ExecuteTime": {
     "end_time": "2024-02-29T23:51:22.809883100Z",
     "start_time": "2024-02-29T23:51:22.679884600Z"
    }
   },
   "id": "2d85a8c965de202d"
  },
  {
   "cell_type": "markdown",
   "source": [
    "#### Benchmarking"
   ],
   "metadata": {
    "collapsed": false
   },
   "id": "85f80933bac93f86"
  },
  {
   "cell_type": "code",
   "execution_count": null,
   "outputs": [
    {
     "name": "stdout",
     "output_type": "stream",
     "text": [
      "shuffled list\n",
      "sorted list\n",
      "reversed list\n",
      "shuffled list\n",
      "sorted list\n",
      "reversed list\n",
      "0\n",
      "shuffled list\n",
      "sorted list\n",
      "reversed list\n",
      "shuffled list\n",
      "sorted list\n",
      "reversed list\n",
      "1\n",
      "shuffled list\n",
      "sorted list\n",
      "reversed list\n",
      "shuffled list\n",
      "sorted list\n",
      "reversed list\n",
      "2\n",
      "10\n",
      "shuffled list\n",
      "sorted list\n",
      "reversed list\n",
      "shuffled list\n",
      "sorted list\n",
      "reversed list\n",
      "0\n",
      "shuffled list\n",
      "sorted list\n",
      "reversed list\n",
      "shuffled list\n",
      "sorted list\n",
      "reversed list\n",
      "1\n",
      "shuffled list\n",
      "sorted list\n",
      "reversed list\n",
      "shuffled list\n",
      "sorted list\n",
      "reversed list\n",
      "2\n",
      "50\n",
      "shuffled list\n",
      "sorted list\n",
      "reversed list\n",
      "shuffled list\n",
      "sorted list\n",
      "reversed list\n",
      "0\n",
      "shuffled list\n",
      "sorted list\n",
      "reversed list\n",
      "shuffled list\n",
      "sorted list\n",
      "reversed list\n",
      "1\n",
      "shuffled list\n",
      "sorted list\n",
      "reversed list\n",
      "shuffled list\n",
      "sorted list\n",
      "reversed list\n",
      "2\n",
      "250\n",
      "shuffled list\n",
      "sorted list\n",
      "reversed list\n",
      "shuffled list\n",
      "sorted list\n",
      "reversed list\n",
      "0\n",
      "shuffled list\n",
      "sorted list\n",
      "reversed list\n",
      "shuffled list\n",
      "sorted list\n",
      "reversed list\n",
      "1\n",
      "shuffled list\n",
      "sorted list\n",
      "reversed list\n",
      "shuffled list\n",
      "sorted list\n",
      "reversed list\n",
      "2\n",
      "1250\n",
      "shuffled list\n",
      "sorted list\n",
      "reversed list\n",
      "shuffled list\n",
      "sorted list\n",
      "reversed list\n",
      "0\n",
      "shuffled list\n",
      "sorted list\n",
      "reversed list\n",
      "shuffled list\n",
      "sorted list\n",
      "reversed list\n",
      "1\n",
      "shuffled list\n",
      "sorted list\n",
      "reversed list\n",
      "shuffled list\n",
      "sorted list\n",
      "reversed list\n",
      "2\n",
      "6250\n"
     ]
    }
   ],
   "source": [
    "import numpy as np\n",
    "import time\n",
    "from time import perf_counter\n",
    "import random\n",
    "import matplotlib.pyplot as plt\n",
    "import statistics\n",
    "\n",
    "\n",
    "def benchmark(sorting_algorithm, input_list):\n",
    "    \"\"\"\n",
    "    Performs 3 tests on the sorting algorithm given an input list, where the input is shuffled, sorted, and reversed\n",
    "    Return: Average of 5 benchmark times for each algorithm on an input list\n",
    "    \"\"\"\n",
    "    shuffle_input_list = input_list.copy()\n",
    "    #Shuffled list\n",
    "    random.shuffle(shuffle_input_list)\n",
    "    start_time = time.perf_counter()\n",
    "    sorting_algorithm(shuffle_input_list)\n",
    "    shuffled_benchmark_time = time.perf_counter() - start_time\n",
    "    print(\"shuffled list\")\n",
    "    \n",
    "    sort_input_list = input_list.copy()\n",
    "    #Sorted List\n",
    "    sort_input_list.sort()\n",
    "    start_time = time.perf_counter()\n",
    "    sorting_algorithm(sort_input_list)\n",
    "    sorted_benchmark_time = time.perf_counter() - start_time\n",
    "    print(\"sorted list\")\n",
    "    \n",
    "    reverse_input_list = input_list.copy()\n",
    "    #Reversed List\n",
    "    reverse_input_list.sort(reverse=True)\n",
    "    start_time = time.perf_counter()\n",
    "    sorting_algorithm(reverse_input_list)\n",
    "    reversed_benchmark_time = time.perf_counter() - start_time\n",
    "    print(\"reversed list\")\n",
    "    return (shuffled_benchmark_time, sorted_benchmark_time, reversed_benchmark_time)\n",
    "\n",
    "def generate_input_list(n):\n",
    "    return [random.randint(0,100) for _ in range(n)]\n",
    "\n",
    "list_sizes = [10,50,250,1250,6250,31250]#,156250]\n",
    "\n",
    "#Lists to hold the benchmark times for each algorithm\n",
    "sorted_times_insertion = []\n",
    "shuffled_times_insertion = []\n",
    "reversed_times_insertion = []\n",
    "sorted_times_selection = []\n",
    "shuffled_times_selection = []\n",
    "reversed_times_selection = []\n",
    "trial_count = 3\n",
    "for list_size in list_sizes:\n",
    "    #Lists will hold the benchmark times for sorting of size n\n",
    "    selection_shuffled_times = []\n",
    "    selection_sorted_times = []\n",
    "    selection_reversed_times = []\n",
    "    insertion_shuffled_times = []\n",
    "    insertion_sorted_times = []\n",
    "    insertion_reversed_times = []\n",
    "    for trial in range(trial_count):\n",
    "        #Data is randomly generated\n",
    "        data = generate_input_list(list_size)\n",
    "        #Selection sort\n",
    "        benchmark_times_ss = benchmark(selection_sort, data)\n",
    "\n",
    "        shuffled_time_ss = benchmark_times_ss[0]\n",
    "        sorted_time_ss = benchmark_times_ss[1]\n",
    "        reversed_time_ss = benchmark_times_ss[2]\n",
    "\n",
    "        selection_shuffled_times.append(shuffled_time_ss)\n",
    "        selection_sorted_times.append(sorted_time_ss)\n",
    "        selection_reversed_times.append(reversed_time_ss)\n",
    "\n",
    "        #Insertion Sort\n",
    "        benchmark_times_is = benchmark(insertion_sort, data)\n",
    "\n",
    "        shuffled_time_is = benchmark_times_is[0]\n",
    "        sorted_time_is = benchmark_times_is[1]\n",
    "        reversed_time_is = benchmark_times_is[2]\n",
    "\n",
    "        #Times for insertion sort with list size N\n",
    "        insertion_shuffled_times.append(shuffled_time_is)\n",
    "        insertion_sorted_times.append(sorted_time_is)\n",
    "        insertion_reversed_times.append(reversed_time_is)\n",
    "        print(trial)\n",
    "\n",
    "    #The average time of selection sort algorithm for sorted, shuffled, and reversed input lists of size n\n",
    "    selection_sorted_average_time = statistics.fmean(selection_sorted_times)\n",
    "    selection_shuffled_average_time = statistics.fmean(selection_shuffled_times)\n",
    "    selection_reversed_average_time = statistics.fmean(selection_reversed_times)\n",
    "\n",
    "    #The average time of insertion sort algorithm for sorted, shuffled, and reversed input lists of size n\n",
    "    insertion_sorted_average_time = statistics.fmean(insertion_sorted_times)\n",
    "    insertion_shuffled_average_time = statistics.fmean(insertion_shuffled_times)\n",
    "    insertion_reversed_average_time = statistics.fmean(insertion_reversed_times)\n",
    "\n",
    "    sorted_times_selection.append(selection_sorted_average_time)\n",
    "    shuffled_times_selection.append(selection_shuffled_average_time)\n",
    "    reversed_times_selection.append(selection_reversed_average_time)\n",
    "\n",
    "    sorted_times_insertion.append(insertion_sorted_average_time)\n",
    "    shuffled_times_insertion.append(insertion_shuffled_average_time)\n",
    "    reversed_times_insertion.append(insertion_reversed_average_time)\n",
    "    print(list_size)"
   ],
   "metadata": {
    "collapsed": false,
    "is_executing": true,
    "ExecuteTime": {
     "start_time": "2024-02-29T23:51:22.703884100Z"
    }
   },
   "id": "207797389f30b307"
  },
  {
   "cell_type": "markdown",
   "source": [
    "### Validating Formal Run Times"
   ],
   "metadata": {
    "collapsed": false
   },
   "id": "d582b1ca53e37dec"
  },
  {
   "cell_type": "code",
   "execution_count": null,
   "outputs": [],
   "source": [
    "# import numpy as np\n",
    "# from scipy.stats import linregress\n",
    "# m, b = linregress(np.log())"
   ],
   "metadata": {
    "collapsed": false,
    "is_executing": true
   },
   "id": "6aff2fc9abdedf8f"
  },
  {
   "cell_type": "markdown",
   "source": [
    "#### Comparison of Algorithm Run Times"
   ],
   "metadata": {
    "collapsed": false
   },
   "id": "d756e7b028b6f2df"
  },
  {
   "cell_type": "code",
   "execution_count": null,
   "outputs": [],
   "source": [
    "plt.plot(list_sizes, shuffled_times_insertion, label=\"Average\")\n",
    "plt.plot(list_sizes, reversed_times_insertion, label=\"Worst\")\n",
    "plt.plot(list_sizes, sorted_times_insertion, label=\"Best\")\n",
    "\n",
    "plt.xlabel(\"List Size\", fontsize=18)\n",
    "plt.ylabel(\"Run time(s)\", fontsize=18)\n",
    "plt.title(\"Insertion Sort\", fontsize=20)\n",
    "plt.legend()"
   ],
   "metadata": {
    "collapsed": false,
    "is_executing": true
   },
   "id": "99ff29cb3870d49c"
  },
  {
   "cell_type": "code",
   "execution_count": null,
   "outputs": [],
   "source": [
    "plt.plot(list_sizes, shuffled_times_selection, label=\"Average\")\n",
    "plt.plot(list_sizes, reversed_times_selection, label=\"Worst\")\n",
    "plt.plot(list_sizes, sorted_times_selection, label=\"Best\")\n",
    "\n",
    "plt.xlabel(\"List Size\", fontsize=18)\n",
    "plt.ylabel(\"Run time(s)\", fontsize=18)\n",
    "plt.title(\"Selection Sort\", fontsize=20)\n",
    "plt.legend()"
   ],
   "metadata": {
    "collapsed": false,
    "is_executing": true
   },
   "id": "5b8a90ee77e12219"
  },
  {
   "cell_type": "code",
   "execution_count": null,
   "outputs": [],
   "source": [
    "plt.plot(list_sizes, shuffled_times_insertion, label=\"Insertion\")\n",
    "plt.plot(list_sizes, shuffled_times_selection, label=\"Selection\")\n",
    "\n",
    "plt.xlabel(\"List Size\", fontsize=18)\n",
    "plt.ylabel(\"Run time(s)\", fontsize=18)\n",
    "plt.title(\"Average Times\", fontsize=20)\n",
    "plt.legend()"
   ],
   "metadata": {
    "collapsed": false,
    "is_executing": true
   },
   "id": "f212155634c259f2"
  },
  {
   "cell_type": "code",
   "execution_count": null,
   "outputs": [],
   "source": [
    "plt.plot(list_sizes, reversed_times_insertion, label=\"Insertion\")\n",
    "plt.plot(list_sizes, reversed_times_selection, label=\"Selection\")\n",
    "\n",
    "plt.xlabel(\"List Size\", fontsize=18)\n",
    "plt.ylabel(\"Run time(s)\", fontsize=18)\n",
    "plt.title(\"Worst Times\", fontsize=20)\n",
    "plt.legend()"
   ],
   "metadata": {
    "collapsed": false,
    "is_executing": true
   },
   "id": "5118f511b75fa791"
  },
  {
   "cell_type": "code",
   "execution_count": null,
   "outputs": [],
   "source": [
    "plt.plot(list_sizes, sorted_times_insertion, label=\"Insertion\")\n",
    "plt.plot(list_sizes, sorted_times_selection, label=\"Selection\")\n",
    "\n",
    "plt.xlabel(\"List Size\", fontsize=18)\n",
    "plt.ylabel(\"Run time(s)\", fontsize=18)\n",
    "plt.title(\"Sorted Times\", fontsize=20)\n",
    "plt.legend()"
   ],
   "metadata": {
    "collapsed": false,
    "is_executing": true
   },
   "id": "353db50d5a64f8a4"
  },
  {
   "cell_type": "markdown",
   "source": [
    "#### Reflection Questions\n",
    "1. \n",
    "|                            |        Theoretical Run Time        | Estimated Run Time |\n",
    "|----------------------------|:----------------------------------:|:------------------:|\n",
    "| insertionSort best case    | T(n) = 5n - 3                      |                    |\n",
    "| insertionSort average case | T(n) = (3/4)n^2 + (19/4)n - 3      |                    |\n",
    "| insertionSort worst case   | T(n) = 3n^2 + 2n - 3               |                    |\n",
    "| selectionSort best case    | T(n) = (3/2)n^2 + (3/2)n + 3       |                    |\n",
    "| selectionSort average case | T(n) = (1/7)n^2 + (1/7)n + (53/49) |                    |\n",
    "| selectionSort worst case   | T(n) = 2n^2 + 2n + 1               |                    |\n",
    "\n",
    "Do your estimates match the theory? \n",
    "\n",
    "2. Which algorithm had a better run time than the other and for which case(s)? Why do you think that one case was\n",
    "substantially faster for that algorithm? (Hint: focus on the inner loops.)\n",
    "    The worst and best case runtimes don't show much of a difference between the two sort algorithms, which is a surprise because the run-time for the best case with the insertion sort is O(n), whereas the runtime is O(n^2) for the selection sort no matter what. \n",
    "   For the average case, insertion sort seems to be the best algorithm for smaller lists, and selection sort seems to be better for longer lists. This would be because if the inner loop is run for the insertion sort, 2 lines of code are run. The inner loop is always run in selection sort, but there\n",
    "\n",
    "3. Based on your results, which of the two sorting algorithms would you use in practice? Why?"
   ],
   "metadata": {
    "collapsed": false
   },
   "id": "6bbb7d7631115cd3"
  },
  {
   "cell_type": "markdown",
   "source": [],
   "metadata": {
    "collapsed": false
   },
   "id": "8ad918532026f88b"
  }
 ],
 "metadata": {
  "kernelspec": {
   "display_name": "Python 3 (ipykernel)",
   "language": "python",
   "name": "python3"
  },
  "language_info": {
   "codemirror_mode": {
    "name": "ipython",
    "version": 3
   },
   "file_extension": ".py",
   "mimetype": "text/x-python",
   "name": "python",
   "nbconvert_exporter": "python",
   "pygments_lexer": "ipython3",
   "version": "3.11.5"
  }
 },
 "nbformat": 4,
 "nbformat_minor": 5
}
