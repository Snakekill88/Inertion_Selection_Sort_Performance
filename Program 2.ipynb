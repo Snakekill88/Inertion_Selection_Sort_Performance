{
 "cells": [
  {
   "cell_type": "markdown",
   "id": "236b03ec",
   "metadata": {},
   "source": [
    "Insertion sort"
   ]
  },
  {
   "cell_type": "code",
   "execution_count": 5,
   "id": "dd8cef47",
   "metadata": {
    "ExecuteTime": {
     "end_time": "2024-02-28T17:50:38.080005900Z",
     "start_time": "2024-02-28T17:50:38.044174100Z"
    }
   },
   "outputs": [
    {
     "name": "stdout",
     "output_type": "stream",
     "text": [
      "[12, 11, 13, 5, 6, 324, 36, -3, 423]\n"
     ]
    }
   ],
   "source": [
    "def insertionSort(arr):\n",
    "    if(len(arr)):\n",
    "        return\n",
    "    for i in range(1,len(arr)):\n",
    "        key = arr[i]\n",
    "        j = i-1\n",
    "        while j >= 0 and key < arr[j]:  \n",
    "            arr[j+1] = arr[j]  \n",
    "            j -= 1\n",
    "        arr[j+1] = key \n",
    "        \n",
    "arr = [12, 11, 13, 5, 6,324,36,-3,423]\n",
    "insertionSort(arr)\n",
    "print(arr)\n"
   ]
  },
  {
   "cell_type": "markdown",
   "source": [
    "Selection Sort"
   ],
   "metadata": {
    "collapsed": false
   },
   "id": "4db648d818d71ec2"
  },
  {
   "cell_type": "code",
   "execution_count": 4,
   "outputs": [
    {
     "name": "stdout",
     "output_type": "stream",
     "text": [
      "[-3, 5, 6, 11, 12, 13, 36, 324, 423]\n"
     ]
    }
   ],
   "source": [
    "def selectionSort(arr):\n",
    "    for j in range(0, len(arr)-1):\n",
    "        smallest = j\n",
    "        for i in range(j+1, len(arr)):\n",
    "            if arr[i] < arr[smallest]:\n",
    "                smallest = i\n",
    "        temp = arr[j]\n",
    "        arr[j] = arr[smallest]\n",
    "        arr[smallest] = temp\n",
    "        \n",
    "arr = [12, 11, 13, 5, 6,324,36,-3,423]\n",
    "selectionSort(arr)\n",
    "print(arr)"
   ],
   "metadata": {
    "collapsed": false,
    "ExecuteTime": {
     "end_time": "2024-02-28T17:49:06.972133300Z",
     "start_time": "2024-02-28T17:49:06.894110200Z"
    }
   },
   "id": "ebcce13d67ce9bb8"
  },
  {
   "cell_type": "code",
   "execution_count": null,
   "outputs": [],
   "source": [],
   "metadata": {
    "collapsed": false
   },
   "id": "4d3f6d5be143cfc6"
  }
 ],
 "metadata": {
  "kernelspec": {
   "display_name": "Python 3 (ipykernel)",
   "language": "python",
   "name": "python3"
  },
  "language_info": {
   "codemirror_mode": {
    "name": "ipython",
    "version": 3
   },
   "file_extension": ".py",
   "mimetype": "text/x-python",
   "name": "python",
   "nbconvert_exporter": "python",
   "pygments_lexer": "ipython3",
   "version": "3.11.5"
  }
 },
 "nbformat": 4,
 "nbformat_minor": 5
}
